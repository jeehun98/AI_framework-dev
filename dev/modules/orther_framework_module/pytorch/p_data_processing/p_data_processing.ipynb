{
 "cells": [
  {
   "cell_type": "markdown",
   "metadata": {},
   "source": [
    "PyTorch에서 데이터를 전처리하는 과정은 일반적으로 torchvision 라이브러리의 transforms 모듈을 사용하여 이루어집니다. 여기서는 이미지 데이터를 처리하는 예시를 중심으로 설명하겠습니다. transforms는 이미지의 크기 조정, 정규화, 텐서 변환 등의 작업을 도와줍니다."
   ]
  },
  {
   "cell_type": "markdown",
   "metadata": {},
   "source": [
    "1. 기본적인 이미지 전처리 예시\n",
    "아래는 PyTorch를 사용하여 이미지 데이터를 전처리하는 기본적인 예시입니다."
   ]
  },
  {
   "cell_type": "code",
   "execution_count": null,
   "metadata": {},
   "outputs": [],
   "source": [
    "import torchvision.transforms as transforms\n",
    "from PIL import Image\n",
    "\n",
    "# 전처리 작업 정의\n",
    "transform = transforms.Compose([\n",
    "    transforms.Resize((256, 256)),       # 이미지 크기 조정\n",
    "    transforms.CenterCrop(224),          # 중앙을 기준으로 크롭\n",
    "    transforms.ToTensor(),               # 이미지를 텐서로 변환\n",
    "    transforms.Normalize(mean=[0.485, 0.456, 0.406], \n",
    "                         std=[0.229, 0.224, 0.225])  # 정규화\n",
    "])\n",
    "\n",
    "# 이미지 로드 및 전처리 적용\n",
    "image = Image.open('path_to_image.jpg')\n",
    "image = transform(image)\n"
   ]
  },
  {
   "cell_type": "markdown",
   "metadata": {},
   "source": [
    "2. 전처리를 Dataset과 함께 사용하기\n",
    "PyTorch에서는 Dataset 클래스와 DataLoader를 함께 사용하여 데이터를 로드하고 전처리합니다."
   ]
  },
  {
   "cell_type": "code",
   "execution_count": null,
   "metadata": {},
   "outputs": [],
   "source": [
    "from torchvision.datasets import ImageFolder\n",
    "from torch.utils.data import DataLoader\n",
    "\n",
    "# Dataset 생성\n",
    "dataset = ImageFolder(root='data/train', transform=transform)\n",
    "\n",
    "# DataLoader 생성\n",
    "dataloader = DataLoader(dataset, batch_size=32, shuffle=True)\n"
   ]
  },
  {
   "cell_type": "markdown",
   "metadata": {},
   "source": [
    "3. 사용자 정의 전처리\n",
    "필요한 경우, 사용자 정의 전처리 함수를 작성할 수 있습니다. 이를 위해 transforms.Lambda를 사용합니다."
   ]
  },
  {
   "cell_type": "code",
   "execution_count": null,
   "metadata": {},
   "outputs": [],
   "source": [
    "def custom_preprocessing(img):\n",
    "    # 사용자 정의 전처리 코드\n",
    "    return img\n",
    "\n",
    "transform = transforms.Compose([\n",
    "    transforms.Resize((256, 256)),\n",
    "    transforms.Lambda(lambda img: custom_preprocessing(img)),\n",
    "    transforms.ToTensor(),\n",
    "])\n"
   ]
  }
 ],
 "metadata": {
  "language_info": {
   "name": "python"
  }
 },
 "nbformat": 4,
 "nbformat_minor": 2
}
